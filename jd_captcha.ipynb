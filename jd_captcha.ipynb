{
 "cells": [
  {
   "cell_type": "code",
   "execution_count": null,
   "metadata": {},
   "outputs": [],
   "source": [
    "\"\"\"\n",
    "使用条件：\n",
    "1. 假定图片缺口位置已经确认（缺口圆以图片中心点为圆心）\n",
    "2. 缺口大小已经确认（13个像素点）\n",
    "3. 图片尺寸已确定（底图的缺口和圆形图大小一致）\n",
    "4. 假定图片都是是已经经过标准化处理的（同时满足上述三个条件）\n",
    "\n",
    "\"\"\""
   ]
  },
  {
   "cell_type": "code",
   "execution_count": 3,
   "metadata": {},
   "outputs": [],
   "source": [
    "import numpy as np\n",
    "import cv2"
   ]
  },
  {
   "cell_type": "code",
   "execution_count": 2,
   "metadata": {},
   "outputs": [],
   "source": [
    "def read_image_grayscale(image_path):\n",
    "    \"\"\"\n",
    "    读取图像并将其转换为灰度模式。\n",
    "\n",
    "    Args:\n",
    "        image_path (str): 图像文件的路径。\n",
    "\n",
    "    Returns:\n",
    "        numpy.ndarray: 灰度图像数据。\n",
    "    \"\"\"\n",
    "    # 读取图像\n",
    "    image = cv2.imread(image_path)\n",
    "\n",
    "    # 如果无法读取图像,则返回None\n",
    "    if image is None:\n",
    "        print(f\"无法读取图像: {image_path}\")\n",
    "        return None\n",
    "\n",
    "    # 将图像转换为灰度模式\n",
    "    gray_image = cv2.cvtColor(image, cv2.COLOR_BGR2GRAY)\n",
    "\n",
    "    return gray_image\n"
   ]
  },
  {
   "cell_type": "code",
   "execution_count": 75,
   "metadata": {},
   "outputs": [],
   "source": [
    "def get_average_vector(c, r, a, array):\n",
    "    \"\"\"\n",
    "    计算在距离中心坐标c为半径r的矩阵中,每隔a度的最近四个值的平均值,并将结果存储在一个向量中。\n",
    "\n",
    "    Args:\n",
    "        c (tuple): 中心坐标,形式为(x, y)。\n",
    "        r (float): 半径。\n",
    "        a (float): 角度,范围为0到360度。\n",
    "        array (numpy.ndarray): 二维矩阵。\n",
    "\n",
    "    Returns:\n",
    "        numpy.ndarray: 存储平均值的向量。\n",
    "    \"\"\"\n",
    "    # 将角度转换为弧度\n",
    "    angle_rad = np.radians(a)\n",
    "\n",
    "    # 计算角度增量\n",
    "    angle_increment = angle_rad\n",
    "\n",
    "    # 初始化向量\n",
    "    vector = []\n",
    "\n",
    "    # 循环计算每个角度的平均值\n",
    "    while angle_increment < 2 * np.pi:\n",
    "        # 计算当前角度对应的坐标\n",
    "        x = c[0] + r * np.cos(angle_increment)\n",
    "        y = c[1] + r * np.sin(angle_increment)\n",
    "\n",
    "        max_x = int(np.ceil(x))\n",
    "        max_y = int(np.ceil(y))\n",
    "\n",
    "        x1 = max_x - 1\n",
    "        x2 = max_x + 1\n",
    "        y1 = max_y - 1\n",
    "        y2 = max_y + 1\n",
    "\n",
    "        # 最近的几个坐标点值\n",
    "        sub_array = []\n",
    "        for j in range(x1, x2 + 1):\n",
    "            for k in range(y1, y2 + 1):\n",
    "                sub_array.append(array[j, k])\n",
    "\n",
    "\n",
    "        # 去掉白色\n",
    "        sub_array = [x for x in sub_array if x <= 254]\n",
    "\n",
    "\n",
    "        # 计算最近坐标点的平均值\n",
    "        average = sum(sub_array) / len(sub_array)\n",
    "\n",
    "        # 将平均值添加到向量中\n",
    "        vector.append(average)\n",
    "\n",
    "        # 更新角度增量\n",
    "        angle_increment += angle_rad\n",
    "\n",
    "    return np.array(vector)"
   ]
  },
  {
   "cell_type": "code",
   "execution_count": null,
   "metadata": {},
   "outputs": [],
   "source": [
    "def find_optimal_offset(a, b):\n",
    "    \"\"\"\n",
    "    给定相同维度的一维向量a和b,找到偏移量offset,使得偏移后的b'与a的各分量差值的方差最小。\n",
    "    \n",
    "    参数:\n",
    "    a (numpy.ndarray): 一维向量\n",
    "    b (numpy.ndarray): 一维向量,与a维度相同\n",
    "    \n",
    "    返回:\n",
    "    offset (float): 最优偏移量\n",
    "    \"\"\"\n",
    "    def offset_v(vec, offset):\n",
    "        v = vec.tolist()\n",
    "        v = v[offset:] + v[0:offset][::-1]\n",
    "        return np.array(v)\n",
    "\n",
    "    \n",
    "    # 计算所有可能的偏移量\n",
    "    offsets = len(a)\n",
    "    \n",
    "    # 计算每个偏移量对应的方差\n",
    "    variances = np.array([(a - offset_v(b, offset)).var() for offset in range(offsets)])\n",
    "    \n",
    "    # 找到最小方差对应的偏移量\n",
    "    optimal_offset = np.argmin(variances)\n",
    "    \n",
    "    return optimal_offset\n",
    "\n",
    "a = np.array([1, 2, 3, 4, 5])\n",
    "b = np.array([3, 4, 5, 1, 2])\n",
    "\n",
    "offset = find_optimal_offset(a, b)\n",
    "print(f\"最优偏移量为: {offset}\")"
   ]
  },
  {
   "cell_type": "code",
   "execution_count": 5,
   "metadata": {},
   "outputs": [],
   "source": [
    "# 图片地址\n",
    "# 更换链接可做测试\n",
    "base_pic = \"~/jd_test/base_20240522171600.jpg\"\n",
    "\n",
    "circle_pic = \"~/jd_test/circle_20240522171743.jpg\"\n",
    "\n"
   ]
  },
  {
   "cell_type": "code",
   "execution_count": 12,
   "metadata": {},
   "outputs": [],
   "source": [
    "# 灰度模式\n",
    "circle_array = read_image_grayscale(circle_pic)\n",
    "\n",
    "base_array = read_image_grayscale(base_pic)\n",
    "\n"
   ]
  },
  {
   "cell_type": "code",
   "execution_count": 81,
   "metadata": {},
   "outputs": [],
   "source": [
    "# 转为一维向量\n",
    "\n",
    "# 半径\n",
    "r = 13\n",
    "\n",
    "# 间隔角度\n",
    "a = 1\n",
    "\n",
    "# 圆形图\n",
    "circle_v = get_average_vector((80,80),r,a,circle_array)\n",
    "\n",
    "# 底图\n",
    "base_v = get_average_vector((160,100),r,a,base_array)\n",
    "\n"
   ]
  },
  {
   "cell_type": "code",
   "execution_count": 86,
   "metadata": {},
   "outputs": [
    {
     "name": "stdout",
     "output_type": "stream",
     "text": [
      "对应逆时针角度:86\n"
     ]
    }
   ],
   "source": [
    "offset = find_optimal_offset(base_v, circle_v)\n",
    "print(f\"对应逆时针角度:{int(360 * (offset / (360 / a)))}\")"
   ]
  }
 ],
 "metadata": {
  "kernelspec": {
   "display_name": "Python 3",
   "language": "python",
   "name": "python3"
  },
  "language_info": {
   "codemirror_mode": {
    "name": "ipython",
    "version": 3
   },
   "file_extension": ".py",
   "mimetype": "text/x-python",
   "name": "python",
   "nbconvert_exporter": "python",
   "pygments_lexer": "ipython3",
   "version": "3.12.0"
  }
 },
 "nbformat": 4,
 "nbformat_minor": 2
}
